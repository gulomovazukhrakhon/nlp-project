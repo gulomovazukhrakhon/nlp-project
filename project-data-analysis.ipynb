{
 "cells": [
  {
   "cell_type": "markdown",
   "id": "6c540fc9",
   "metadata": {
    "papermill": {
     "duration": 0.004888,
     "end_time": "2025-04-18T13:55:38.399860",
     "exception": false,
     "start_time": "2025-04-18T13:55:38.394972",
     "status": "completed"
    },
    "tags": []
   },
   "source": [
    "# Project: Data Analysis\n",
    "\n",
    "In this project, I want to find the most frequent topics from unstructured complaint texts using Natural Language Processing (NLP) techniques. I selected the dataset “Air France Reviews” from Kaggle, which includes unstructured customer feedback about airline services. These reviews often express detailed complaints and opinions about flight delays, food, staff, and comfort, making them ideal for identifying key topics through NLP.\n",
    "\n",
    "## Text Preprocessing\n",
    "* Removing punctuation\n",
    "* Lowercasing\n",
    "* Eliminating Stopwords\n",
    "* Lemmatization\n",
    "\n",
    "## Vectorization Techniques\n",
    "* TF-IDF via Sklearn\n",
    "* BERT\n",
    "\n",
    "## Topic Extraction\n",
    "* LDA\n",
    "* BERTopic"
   ]
  },
  {
   "cell_type": "markdown",
   "id": "71e06c9c",
   "metadata": {
    "papermill": {
     "duration": 0.003952,
     "end_time": "2025-04-18T13:55:38.408166",
     "exception": false,
     "start_time": "2025-04-18T13:55:38.404214",
     "status": "completed"
    },
    "tags": []
   },
   "source": [
    "## Notebook Imports"
   ]
  },
  {
   "cell_type": "code",
   "execution_count": 1,
   "id": "19ace3b0",
   "metadata": {
    "execution": {
     "iopub.execute_input": "2025-04-18T13:55:38.417573Z",
     "iopub.status.busy": "2025-04-18T13:55:38.417246Z",
     "iopub.status.idle": "2025-04-18T13:55:42.679290Z",
     "shell.execute_reply": "2025-04-18T13:55:42.678275Z"
    },
    "papermill": {
     "duration": 4.268815,
     "end_time": "2025-04-18T13:55:42.681066",
     "exception": false,
     "start_time": "2025-04-18T13:55:38.412251",
     "status": "completed"
    },
    "tags": []
   },
   "outputs": [],
   "source": [
    "import pandas as pd\n",
    "import matplotlib.pyplot as plt\n",
    "\n",
    "# NLTK\n",
    "import nltk\n",
    "from nltk.corpus import stopwords\n",
    "from nltk.stem import WordNetLemmatizer\n",
    "from nltk.tokenize import word_tokenize\n",
    "\n",
    "# Sklearn\n",
    "from sklearn.feature_extraction.text import TfidfVectorizer"
   ]
  },
  {
   "cell_type": "markdown",
   "id": "3c0fc86e",
   "metadata": {
    "papermill": {
     "duration": 0.003795,
     "end_time": "2025-04-18T13:55:42.689167",
     "exception": false,
     "start_time": "2025-04-18T13:55:42.685372",
     "status": "completed"
    },
    "tags": []
   },
   "source": [
    "## Data Loading"
   ]
  },
  {
   "cell_type": "code",
   "execution_count": 2,
   "id": "e80de01a",
   "metadata": {
    "execution": {
     "iopub.execute_input": "2025-04-18T13:55:42.698932Z",
     "iopub.status.busy": "2025-04-18T13:55:42.698177Z",
     "iopub.status.idle": "2025-04-18T13:55:42.821456Z",
     "shell.execute_reply": "2025-04-18T13:55:42.820499Z"
    },
    "papermill": {
     "duration": 0.130037,
     "end_time": "2025-04-18T13:55:42.823159",
     "exception": false,
     "start_time": "2025-04-18T13:55:42.693122",
     "status": "completed"
    },
    "tags": []
   },
   "outputs": [
    {
     "data": {
      "text/html": [
       "<div>\n",
       "<style scoped>\n",
       "    .dataframe tbody tr th:only-of-type {\n",
       "        vertical-align: middle;\n",
       "    }\n",
       "\n",
       "    .dataframe tbody tr th {\n",
       "        vertical-align: top;\n",
       "    }\n",
       "\n",
       "    .dataframe thead th {\n",
       "        text-align: right;\n",
       "    }\n",
       "</style>\n",
       "<table border=\"1\" class=\"dataframe\">\n",
       "  <thead>\n",
       "    <tr style=\"text-align: right;\">\n",
       "      <th></th>\n",
       "      <th>rating</th>\n",
       "      <th>title</th>\n",
       "      <th>text</th>\n",
       "      <th>publishedDate</th>\n",
       "    </tr>\n",
       "  </thead>\n",
       "  <tbody>\n",
       "    <tr>\n",
       "      <th>0</th>\n",
       "      <td>1</td>\n",
       "      <td>WORST AIRLINE</td>\n",
       "      <td>I travel a lot - and I travel often. Last week...</td>\n",
       "      <td>2024-11-13</td>\n",
       "    </tr>\n",
       "    <tr>\n",
       "      <th>1</th>\n",
       "      <td>1</td>\n",
       "      <td>Terrible experience with Airfrance</td>\n",
       "      <td>This review is regarding flight AF185, we book...</td>\n",
       "      <td>2024-11-13</td>\n",
       "    </tr>\n",
       "    <tr>\n",
       "      <th>2</th>\n",
       "      <td>1</td>\n",
       "      <td>Extremely Disappointing Experience with Air Fr...</td>\n",
       "      <td>I recently flew with Air France on flight #185...</td>\n",
       "      <td>2024-11-12</td>\n",
       "    </tr>\n",
       "    <tr>\n",
       "      <th>3</th>\n",
       "      <td>1</td>\n",
       "      <td>Horrible</td>\n",
       "      <td>Wow!!! What a horrible experience!! I've alway...</td>\n",
       "      <td>2024-11-11</td>\n",
       "    </tr>\n",
       "    <tr>\n",
       "      <th>4</th>\n",
       "      <td>1</td>\n",
       "      <td>The Worst Flight Experience I’ve Ever Had</td>\n",
       "      <td>I spent a fantastic 10-day vacation in Hong Ko...</td>\n",
       "      <td>2024-11-11</td>\n",
       "    </tr>\n",
       "  </tbody>\n",
       "</table>\n",
       "</div>"
      ],
      "text/plain": [
       "   rating                                              title  \\\n",
       "0       1                                      WORST AIRLINE   \n",
       "1       1                 Terrible experience with Airfrance   \n",
       "2       1  Extremely Disappointing Experience with Air Fr...   \n",
       "3       1                                           Horrible   \n",
       "4       1          The Worst Flight Experience I’ve Ever Had   \n",
       "\n",
       "                                                text publishedDate  \n",
       "0  I travel a lot - and I travel often. Last week...    2024-11-13  \n",
       "1  This review is regarding flight AF185, we book...    2024-11-13  \n",
       "2  I recently flew with Air France on flight #185...    2024-11-12  \n",
       "3  Wow!!! What a horrible experience!! I've alway...    2024-11-11  \n",
       "4  I spent a fantastic 10-day vacation in Hong Ko...    2024-11-11  "
      ]
     },
     "execution_count": 2,
     "metadata": {},
     "output_type": "execute_result"
    }
   ],
   "source": [
    "dataset = pd.read_csv(\"/kaggle/input/air-france-reviews-dataset/airfrance_tripadvisor_reviews.csv\")\n",
    "dataset.head()"
   ]
  },
  {
   "cell_type": "code",
   "execution_count": 3,
   "id": "ec345bba",
   "metadata": {
    "execution": {
     "iopub.execute_input": "2025-04-18T13:55:42.833523Z",
     "iopub.status.busy": "2025-04-18T13:55:42.833187Z",
     "iopub.status.idle": "2025-04-18T13:55:42.858527Z",
     "shell.execute_reply": "2025-04-18T13:55:42.857654Z"
    },
    "papermill": {
     "duration": 0.032239,
     "end_time": "2025-04-18T13:55:42.860001",
     "exception": false,
     "start_time": "2025-04-18T13:55:42.827762",
     "status": "completed"
    },
    "tags": []
   },
   "outputs": [
    {
     "name": "stdout",
     "output_type": "stream",
     "text": [
      "<class 'pandas.core.frame.DataFrame'>\n",
      "RangeIndex: 2560 entries, 0 to 2559\n",
      "Data columns (total 4 columns):\n",
      " #   Column         Non-Null Count  Dtype \n",
      "---  ------         --------------  ----- \n",
      " 0   rating         2560 non-null   int64 \n",
      " 1   title          2560 non-null   object\n",
      " 2   text           2560 non-null   object\n",
      " 3   publishedDate  2560 non-null   object\n",
      "dtypes: int64(1), object(3)\n",
      "memory usage: 80.1+ KB\n"
     ]
    }
   ],
   "source": [
    "dataset.info()"
   ]
  },
  {
   "cell_type": "code",
   "execution_count": 4,
   "id": "f7485316",
   "metadata": {
    "execution": {
     "iopub.execute_input": "2025-04-18T13:55:42.870185Z",
     "iopub.status.busy": "2025-04-18T13:55:42.869876Z",
     "iopub.status.idle": "2025-04-18T13:55:42.882311Z",
     "shell.execute_reply": "2025-04-18T13:55:42.881297Z"
    },
    "papermill": {
     "duration": 0.019315,
     "end_time": "2025-04-18T13:55:42.883958",
     "exception": false,
     "start_time": "2025-04-18T13:55:42.864643",
     "status": "completed"
    },
    "tags": []
   },
   "outputs": [
    {
     "data": {
      "text/plain": [
       "0"
      ]
     },
     "execution_count": 4,
     "metadata": {},
     "output_type": "execute_result"
    }
   ],
   "source": [
    "dataset.duplicated().sum()"
   ]
  },
  {
   "cell_type": "code",
   "execution_count": 5,
   "id": "8d0f1412",
   "metadata": {
    "execution": {
     "iopub.execute_input": "2025-04-18T13:55:42.894405Z",
     "iopub.status.busy": "2025-04-18T13:55:42.894101Z",
     "iopub.status.idle": "2025-04-18T13:55:42.899702Z",
     "shell.execute_reply": "2025-04-18T13:55:42.898921Z"
    },
    "papermill": {
     "duration": 0.012391,
     "end_time": "2025-04-18T13:55:42.901038",
     "exception": false,
     "start_time": "2025-04-18T13:55:42.888647",
     "status": "completed"
    },
    "tags": []
   },
   "outputs": [
    {
     "data": {
      "text/plain": [
       "(2560, 4)"
      ]
     },
     "execution_count": 5,
     "metadata": {},
     "output_type": "execute_result"
    }
   ],
   "source": [
    "dataset.shape"
   ]
  },
  {
   "cell_type": "markdown",
   "id": "d3af70e7",
   "metadata": {
    "papermill": {
     "duration": 0.004385,
     "end_time": "2025-04-18T13:55:42.911854",
     "exception": false,
     "start_time": "2025-04-18T13:55:42.907469",
     "status": "completed"
    },
    "tags": []
   },
   "source": [
    "## Data Visualization"
   ]
  },
  {
   "cell_type": "code",
   "execution_count": 6,
   "id": "3c22e982",
   "metadata": {
    "execution": {
     "iopub.execute_input": "2025-04-18T13:55:42.922187Z",
     "iopub.status.busy": "2025-04-18T13:55:42.921862Z",
     "iopub.status.idle": "2025-04-18T13:55:43.115514Z",
     "shell.execute_reply": "2025-04-18T13:55:43.114502Z"
    },
    "papermill": {
     "duration": 0.200665,
     "end_time": "2025-04-18T13:55:43.117093",
     "exception": false,
     "start_time": "2025-04-18T13:55:42.916428",
     "status": "completed"
    },
    "tags": []
   },
   "outputs": [
    {
     "data": {
      "image/png": "[encoded data removed]",
      "text/plain": [
       "<Figure size 640x480 with 1 Axes>"
      ]
     },
     "metadata": {},
     "output_type": "display_data"
    }
   ],
   "source": [
    "rating = dataset['rating'].value_counts()\n",
    "labels = rating.keys()\n",
    "plt.pie(rating, labels=labels, autopct='%1.1f%%')\n",
    "plt.show()"
   ]
  },
  {
   "cell_type": "markdown",
   "id": "a4515df5",
   "metadata": {
    "papermill": {
     "duration": 0.004817,
     "end_time": "2025-04-18T13:55:43.126998",
     "exception": false,
     "start_time": "2025-04-18T13:55:43.122181",
     "status": "completed"
    },
    "tags": []
   },
   "source": [
    "## Data Cleaning"
   ]
  },
  {
   "cell_type": "code",
   "execution_count": 7,
   "id": "37e8a98f",
   "metadata": {
    "execution": {
     "iopub.execute_input": "2025-04-18T13:55:43.138104Z",
     "iopub.status.busy": "2025-04-18T13:55:43.137774Z",
     "iopub.status.idle": "2025-04-18T13:55:43.148707Z",
     "shell.execute_reply": "2025-04-18T13:55:43.147683Z"
    },
    "papermill": {
     "duration": 0.0183,
     "end_time": "2025-04-18T13:55:43.150254",
     "exception": false,
     "start_time": "2025-04-18T13:55:43.131954",
     "status": "completed"
    },
    "tags": []
   },
   "outputs": [],
   "source": [
    "def preprocess_text(text: str, stopwords=set(stopwords.words('english')), wnl=WordNetLemmatizer()):\n",
    "    \n",
    "    \"\"\"\n",
    "    Preprocesses the input text by tokenizing, removing stopwords and punctuation, and lemmatizing the words.\n",
    "    \n",
    "    Args:\n",
    "        text (str): The input text to be preprocessed.\n",
    "        stopwords (set, optional): A set of stopwords to be removed from the text. Defaults to nltk's English stopwords.\n",
    "        wnl (WordNetLemmatizer, optional): An instance of WordNetLemmatizer for lemmatizing words. Defaults to an instance of WordNetLemmatizer.\n",
    "        \n",
    "    Returns:\n",
    "        list or str: The preprocessed text. \n",
    "    \"\"\"\n",
    "    \n",
    "    # Tokenising\n",
    "    words = word_tokenize(text.lower())\n",
    "    \n",
    "    # Removing Stopwords & Punctuation\n",
    "    filtered_text = [word for word in words if word not in stopwords and word.isalpha()]\n",
    "    \n",
    "    # Lemmatization\n",
    "    preprocessed_text = [wnl.lemmatize(word) for word in filtered_text]\n",
    "    \n",
    "    return preprocessed_text"
   ]
  },
  {
   "cell_type": "code",
   "execution_count": 8,
   "id": "cab4d30b",
   "metadata": {
    "execution": {
     "iopub.execute_input": "2025-04-18T13:55:43.161798Z",
     "iopub.status.busy": "2025-04-18T13:55:43.161434Z",
     "iopub.status.idle": "2025-04-18T13:55:49.093365Z",
     "shell.execute_reply": "2025-04-18T13:55:49.092486Z"
    },
    "papermill": {
     "duration": 5.939545,
     "end_time": "2025-04-18T13:55:49.094945",
     "exception": false,
     "start_time": "2025-04-18T13:55:43.155400",
     "status": "completed"
    },
    "tags": []
   },
   "outputs": [
    {
     "data": {
      "text/html": [
       "<div>\n",
       "<style scoped>\n",
       "    .dataframe tbody tr th:only-of-type {\n",
       "        vertical-align: middle;\n",
       "    }\n",
       "\n",
       "    .dataframe tbody tr th {\n",
       "        vertical-align: top;\n",
       "    }\n",
       "\n",
       "    .dataframe thead th {\n",
       "        text-align: right;\n",
       "    }\n",
       "</style>\n",
       "<table border=\"1\" class=\"dataframe\">\n",
       "  <thead>\n",
       "    <tr style=\"text-align: right;\">\n",
       "      <th></th>\n",
       "      <th>rating</th>\n",
       "      <th>title</th>\n",
       "      <th>text</th>\n",
       "      <th>publishedDate</th>\n",
       "    </tr>\n",
       "  </thead>\n",
       "  <tbody>\n",
       "    <tr>\n",
       "      <th>0</th>\n",
       "      <td>1</td>\n",
       "      <td>WORST AIRLINE</td>\n",
       "      <td>[travel, lot, travel, often, last, week, flew,...</td>\n",
       "      <td>2024-11-13</td>\n",
       "    </tr>\n",
       "    <tr>\n",
       "      <th>1</th>\n",
       "      <td>1</td>\n",
       "      <td>Terrible experience with Airfrance</td>\n",
       "      <td>[review, regarding, flight, booked, economy, f...</td>\n",
       "      <td>2024-11-13</td>\n",
       "    </tr>\n",
       "    <tr>\n",
       "      <th>2</th>\n",
       "      <td>1</td>\n",
       "      <td>Extremely Disappointing Experience with Air Fr...</td>\n",
       "      <td>[recently, flew, air, france, flight, hong, ko...</td>\n",
       "      <td>2024-11-12</td>\n",
       "    </tr>\n",
       "    <tr>\n",
       "      <th>3</th>\n",
       "      <td>1</td>\n",
       "      <td>Horrible</td>\n",
       "      <td>[wow, horrible, experience, always, flown, por...</td>\n",
       "      <td>2024-11-11</td>\n",
       "    </tr>\n",
       "    <tr>\n",
       "      <th>4</th>\n",
       "      <td>1</td>\n",
       "      <td>The Worst Flight Experience I’ve Ever Had</td>\n",
       "      <td>[spent, fantastic, vacation, hong, kong, famil...</td>\n",
       "      <td>2024-11-11</td>\n",
       "    </tr>\n",
       "  </tbody>\n",
       "</table>\n",
       "</div>"
      ],
      "text/plain": [
       "   rating                                              title  \\\n",
       "0       1                                      WORST AIRLINE   \n",
       "1       1                 Terrible experience with Airfrance   \n",
       "2       1  Extremely Disappointing Experience with Air Fr...   \n",
       "3       1                                           Horrible   \n",
       "4       1          The Worst Flight Experience I’ve Ever Had   \n",
       "\n",
       "                                                text publishedDate  \n",
       "0  [travel, lot, travel, often, last, week, flew,...    2024-11-13  \n",
       "1  [review, regarding, flight, booked, economy, f...    2024-11-13  \n",
       "2  [recently, flew, air, france, flight, hong, ko...    2024-11-12  \n",
       "3  [wow, horrible, experience, always, flown, por...    2024-11-11  \n",
       "4  [spent, fantastic, vacation, hong, kong, famil...    2024-11-11  "
      ]
     },
     "execution_count": 8,
     "metadata": {},
     "output_type": "execute_result"
    }
   ],
   "source": [
    "dataset['text'] = dataset['text'].apply(preprocess_text)\n",
    "dataset.head()"
   ]
  },
  {
   "cell_type": "code",
   "execution_count": 9,
   "id": "1c8eacb6",
   "metadata": {
    "execution": {
     "iopub.execute_input": "2025-04-18T13:55:49.107053Z",
     "iopub.status.busy": "2025-04-18T13:55:49.106257Z",
     "iopub.status.idle": "2025-04-18T13:55:49.123298Z",
     "shell.execute_reply": "2025-04-18T13:55:49.122193Z"
    },
    "papermill": {
     "duration": 0.024569,
     "end_time": "2025-04-18T13:55:49.124781",
     "exception": false,
     "start_time": "2025-04-18T13:55:49.100212",
     "status": "completed"
    },
    "tags": []
   },
   "outputs": [
    {
     "data": {
      "text/html": [
       "<div>\n",
       "<style scoped>\n",
       "    .dataframe tbody tr th:only-of-type {\n",
       "        vertical-align: middle;\n",
       "    }\n",
       "\n",
       "    .dataframe tbody tr th {\n",
       "        vertical-align: top;\n",
       "    }\n",
       "\n",
       "    .dataframe thead th {\n",
       "        text-align: right;\n",
       "    }\n",
       "</style>\n",
       "<table border=\"1\" class=\"dataframe\">\n",
       "  <thead>\n",
       "    <tr style=\"text-align: right;\">\n",
       "      <th></th>\n",
       "      <th>rating</th>\n",
       "      <th>text</th>\n",
       "    </tr>\n",
       "  </thead>\n",
       "  <tbody>\n",
       "    <tr>\n",
       "      <th>0</th>\n",
       "      <td>1</td>\n",
       "      <td>[travel, lot, travel, often, last, week, flew,...</td>\n",
       "    </tr>\n",
       "    <tr>\n",
       "      <th>1</th>\n",
       "      <td>1</td>\n",
       "      <td>[review, regarding, flight, booked, economy, f...</td>\n",
       "    </tr>\n",
       "    <tr>\n",
       "      <th>2</th>\n",
       "      <td>1</td>\n",
       "      <td>[recently, flew, air, france, flight, hong, ko...</td>\n",
       "    </tr>\n",
       "    <tr>\n",
       "      <th>3</th>\n",
       "      <td>1</td>\n",
       "      <td>[wow, horrible, experience, always, flown, por...</td>\n",
       "    </tr>\n",
       "    <tr>\n",
       "      <th>4</th>\n",
       "      <td>1</td>\n",
       "      <td>[spent, fantastic, vacation, hong, kong, famil...</td>\n",
       "    </tr>\n",
       "  </tbody>\n",
       "</table>\n",
       "</div>"
      ],
      "text/plain": [
       "   rating                                               text\n",
       "0       1  [travel, lot, travel, often, last, week, flew,...\n",
       "1       1  [review, regarding, flight, booked, economy, f...\n",
       "2       1  [recently, flew, air, france, flight, hong, ko...\n",
       "3       1  [wow, horrible, experience, always, flown, por...\n",
       "4       1  [spent, fantastic, vacation, hong, kong, famil..."
      ]
     },
     "execution_count": 9,
     "metadata": {},
     "output_type": "execute_result"
    }
   ],
   "source": [
    "dataset.drop(['title', 'publishedDate'], axis=1, inplace=True)\n",
    "dataset.head()"
   ]
  },
  {
   "cell_type": "markdown",
   "id": "e4590716",
   "metadata": {
    "papermill": {
     "duration": 0.005043,
     "end_time": "2025-04-18T13:55:49.135318",
     "exception": false,
     "start_time": "2025-04-18T13:55:49.130275",
     "status": "completed"
    },
    "tags": []
   },
   "source": [
    "## Text Vectorization"
   ]
  },
  {
   "cell_type": "markdown",
   "id": "c2763a44",
   "metadata": {
    "papermill": {
     "duration": 0.004886,
     "end_time": "2025-04-18T13:55:49.145838",
     "exception": false,
     "start_time": "2025-04-18T13:55:49.140952",
     "status": "completed"
    },
    "tags": []
   },
   "source": [
    "### Option 1: TF-IDF via Sklearn"
   ]
  },
  {
   "cell_type": "code",
   "execution_count": 10,
   "id": "044b992e",
   "metadata": {
    "execution": {
     "iopub.execute_input": "2025-04-18T13:55:49.157644Z",
     "iopub.status.busy": "2025-04-18T13:55:49.157313Z",
     "iopub.status.idle": "2025-04-18T13:55:49.169777Z",
     "shell.execute_reply": "2025-04-18T13:55:49.168879Z"
    },
    "papermill": {
     "duration": 0.020279,
     "end_time": "2025-04-18T13:55:49.171218",
     "exception": false,
     "start_time": "2025-04-18T13:55:49.150939",
     "status": "completed"
    },
    "tags": []
   },
   "outputs": [],
   "source": [
    "dataset['cleaned_text'] = dataset['text'].apply(\" \".join)\n",
    "documents = [item for item in dataset['cleaned_text']]"
   ]
  },
  {
   "cell_type": "code",
   "execution_count": 11,
   "id": "870526dc",
   "metadata": {
    "execution": {
     "iopub.execute_input": "2025-04-18T13:55:49.183614Z",
     "iopub.status.busy": "2025-04-18T13:55:49.182994Z",
     "iopub.status.idle": "2025-04-18T13:55:49.334470Z",
     "shell.execute_reply": "2025-04-18T13:55:49.333677Z"
    },
    "papermill": {
     "duration": 0.159266,
     "end_time": "2025-04-18T13:55:49.336008",
     "exception": false,
     "start_time": "2025-04-18T13:55:49.176742",
     "status": "completed"
    },
    "tags": []
   },
   "outputs": [
    {
     "data": {
      "text/plain": [
       "(2560, 8998)"
      ]
     },
     "execution_count": 11,
     "metadata": {},
     "output_type": "execute_result"
    }
   ],
   "source": [
    "vectorizer = TfidfVectorizer()\n",
    "X = vectorizer.fit_transform(documents)\n",
    "X.shape"
   ]
  },
  {
   "cell_type": "code",
   "execution_count": 12,
   "id": "ac52bdf2",
   "metadata": {
    "execution": {
     "iopub.execute_input": "2025-04-18T13:55:49.348034Z",
     "iopub.status.busy": "2025-04-18T13:55:49.347730Z",
     "iopub.status.idle": "2025-04-18T13:55:49.631104Z",
     "shell.execute_reply": "2025-04-18T13:55:49.630207Z"
    },
    "papermill": {
     "duration": 0.291011,
     "end_time": "2025-04-18T13:55:49.632521",
     "exception": false,
     "start_time": "2025-04-18T13:55:49.341510",
     "status": "completed"
    },
    "tags": []
   },
   "outputs": [
    {
     "data": {
      "text/html": [
       "<div>\n",
       "<style scoped>\n",
       "    .dataframe tbody tr th:only-of-type {\n",
       "        vertical-align: middle;\n",
       "    }\n",
       "\n",
       "    .dataframe tbody tr th {\n",
       "        vertical-align: top;\n",
       "    }\n",
       "\n",
       "    .dataframe thead th {\n",
       "        text-align: right;\n",
       "    }\n",
       "</style>\n",
       "<table border=\"1\" class=\"dataframe\">\n",
       "  <thead>\n",
       "    <tr style=\"text-align: right;\">\n",
       "      <th></th>\n",
       "      <th>aa</th>\n",
       "      <th>aaadvantage</th>\n",
       "      <th>aayush</th>\n",
       "      <th>abandon</th>\n",
       "      <th>abandoned</th>\n",
       "      <th>abbreviated</th>\n",
       "      <th>abbreviation</th>\n",
       "      <th>abc</th>\n",
       "      <th>abd</th>\n",
       "      <th>aberdeen</th>\n",
       "      <th>...</th>\n",
       "      <th>zipped</th>\n",
       "      <th>zipping</th>\n",
       "      <th>zone</th>\n",
       "      <th>zoned</th>\n",
       "      <th>zoo</th>\n",
       "      <th>zue</th>\n",
       "      <th>zurich</th>\n",
       "      <th>zzzz</th>\n",
       "      <th>zürich</th>\n",
       "      <th>în</th>\n",
       "    </tr>\n",
       "  </thead>\n",
       "  <tbody>\n",
       "    <tr>\n",
       "      <th>2555</th>\n",
       "      <td>0.0</td>\n",
       "      <td>0.0</td>\n",
       "      <td>0.0</td>\n",
       "      <td>0.0</td>\n",
       "      <td>0.0</td>\n",
       "      <td>0.0</td>\n",
       "      <td>0.0</td>\n",
       "      <td>0.0</td>\n",
       "      <td>0.0</td>\n",
       "      <td>0.0</td>\n",
       "      <td>...</td>\n",
       "      <td>0.0</td>\n",
       "      <td>0.0</td>\n",
       "      <td>0.0</td>\n",
       "      <td>0.0</td>\n",
       "      <td>0.0</td>\n",
       "      <td>0.0</td>\n",
       "      <td>0.0</td>\n",
       "      <td>0.0</td>\n",
       "      <td>0.0</td>\n",
       "      <td>0.0</td>\n",
       "    </tr>\n",
       "    <tr>\n",
       "      <th>2556</th>\n",
       "      <td>0.0</td>\n",
       "      <td>0.0</td>\n",
       "      <td>0.0</td>\n",
       "      <td>0.0</td>\n",
       "      <td>0.0</td>\n",
       "      <td>0.0</td>\n",
       "      <td>0.0</td>\n",
       "      <td>0.0</td>\n",
       "      <td>0.0</td>\n",
       "      <td>0.0</td>\n",
       "      <td>...</td>\n",
       "      <td>0.0</td>\n",
       "      <td>0.0</td>\n",
       "      <td>0.0</td>\n",
       "      <td>0.0</td>\n",
       "      <td>0.0</td>\n",
       "      <td>0.0</td>\n",
       "      <td>0.0</td>\n",
       "      <td>0.0</td>\n",
       "      <td>0.0</td>\n",
       "      <td>0.0</td>\n",
       "    </tr>\n",
       "    <tr>\n",
       "      <th>2557</th>\n",
       "      <td>0.0</td>\n",
       "      <td>0.0</td>\n",
       "      <td>0.0</td>\n",
       "      <td>0.0</td>\n",
       "      <td>0.0</td>\n",
       "      <td>0.0</td>\n",
       "      <td>0.0</td>\n",
       "      <td>0.0</td>\n",
       "      <td>0.0</td>\n",
       "      <td>0.0</td>\n",
       "      <td>...</td>\n",
       "      <td>0.0</td>\n",
       "      <td>0.0</td>\n",
       "      <td>0.0</td>\n",
       "      <td>0.0</td>\n",
       "      <td>0.0</td>\n",
       "      <td>0.0</td>\n",
       "      <td>0.0</td>\n",
       "      <td>0.0</td>\n",
       "      <td>0.0</td>\n",
       "      <td>0.0</td>\n",
       "    </tr>\n",
       "    <tr>\n",
       "      <th>2558</th>\n",
       "      <td>0.0</td>\n",
       "      <td>0.0</td>\n",
       "      <td>0.0</td>\n",
       "      <td>0.0</td>\n",
       "      <td>0.0</td>\n",
       "      <td>0.0</td>\n",
       "      <td>0.0</td>\n",
       "      <td>0.0</td>\n",
       "      <td>0.0</td>\n",
       "      <td>0.0</td>\n",
       "      <td>...</td>\n",
       "      <td>0.0</td>\n",
       "      <td>0.0</td>\n",
       "      <td>0.0</td>\n",
       "      <td>0.0</td>\n",
       "      <td>0.0</td>\n",
       "      <td>0.0</td>\n",
       "      <td>0.0</td>\n",
       "      <td>0.0</td>\n",
       "      <td>0.0</td>\n",
       "      <td>0.0</td>\n",
       "    </tr>\n",
       "    <tr>\n",
       "      <th>2559</th>\n",
       "      <td>0.0</td>\n",
       "      <td>0.0</td>\n",
       "      <td>0.0</td>\n",
       "      <td>0.0</td>\n",
       "      <td>0.0</td>\n",
       "      <td>0.0</td>\n",
       "      <td>0.0</td>\n",
       "      <td>0.0</td>\n",
       "      <td>0.0</td>\n",
       "      <td>0.0</td>\n",
       "      <td>...</td>\n",
       "      <td>0.0</td>\n",
       "      <td>0.0</td>\n",
       "      <td>0.0</td>\n",
       "      <td>0.0</td>\n",
       "      <td>0.0</td>\n",
       "      <td>0.0</td>\n",
       "      <td>0.0</td>\n",
       "      <td>0.0</td>\n",
       "      <td>0.0</td>\n",
       "      <td>0.0</td>\n",
       "    </tr>\n",
       "  </tbody>\n",
       "</table>\n",
       "<p>5 rows × 8998 columns</p>\n",
       "</div>"
      ],
      "text/plain": [
       "       aa  aaadvantage  aayush  abandon  abandoned  abbreviated  abbreviation  \\\n",
       "2555  0.0          0.0     0.0      0.0        0.0          0.0           0.0   \n",
       "2556  0.0          0.0     0.0      0.0        0.0          0.0           0.0   \n",
       "2557  0.0          0.0     0.0      0.0        0.0          0.0           0.0   \n",
       "2558  0.0          0.0     0.0      0.0        0.0          0.0           0.0   \n",
       "2559  0.0          0.0     0.0      0.0        0.0          0.0           0.0   \n",
       "\n",
       "      abc  abd  aberdeen  ...  zipped  zipping  zone  zoned  zoo  zue  zurich  \\\n",
       "2555  0.0  0.0       0.0  ...     0.0      0.0   0.0    0.0  0.0  0.0     0.0   \n",
       "2556  0.0  0.0       0.0  ...     0.0      0.0   0.0    0.0  0.0  0.0     0.0   \n",
       "2557  0.0  0.0       0.0  ...     0.0      0.0   0.0    0.0  0.0  0.0     0.0   \n",
       "2558  0.0  0.0       0.0  ...     0.0      0.0   0.0    0.0  0.0  0.0     0.0   \n",
       "2559  0.0  0.0       0.0  ...     0.0      0.0   0.0    0.0  0.0  0.0     0.0   \n",
       "\n",
       "      zzzz  zürich   în  \n",
       "2555   0.0     0.0  0.0  \n",
       "2556   0.0     0.0  0.0  \n",
       "2557   0.0     0.0  0.0  \n",
       "2558   0.0     0.0  0.0  \n",
       "2559   0.0     0.0  0.0  \n",
       "\n",
       "[5 rows x 8998 columns]"
      ]
     },
     "execution_count": 12,
     "metadata": {},
     "output_type": "execute_result"
    }
   ],
   "source": [
    "tfidf_df = pd.DataFrame(X.toarray(), columns=vectorizer.get_feature_names_out())\n",
    "tfidf_df.tail()"
   ]
  },
  {
   "cell_type": "code",
   "execution_count": 13,
   "id": "bf39ef21",
   "metadata": {
    "execution": {
     "iopub.execute_input": "2025-04-18T13:55:49.645488Z",
     "iopub.status.busy": "2025-04-18T13:55:49.645147Z",
     "iopub.status.idle": "2025-04-18T13:55:51.113232Z",
     "shell.execute_reply": "2025-04-18T13:55:51.112223Z"
    },
    "papermill": {
     "duration": 1.476211,
     "end_time": "2025-04-18T13:55:51.114760",
     "exception": false,
     "start_time": "2025-04-18T13:55:49.638549",
     "status": "completed"
    },
    "tags": []
   },
   "outputs": [
    {
     "data": {
      "text/html": [
       "<div>\n",
       "<style scoped>\n",
       "    .dataframe tbody tr th:only-of-type {\n",
       "        vertical-align: middle;\n",
       "    }\n",
       "\n",
       "    .dataframe tbody tr th {\n",
       "        vertical-align: top;\n",
       "    }\n",
       "\n",
       "    .dataframe thead th {\n",
       "        text-align: right;\n",
       "    }\n",
       "</style>\n",
       "<table border=\"1\" class=\"dataframe\">\n",
       "  <thead>\n",
       "    <tr style=\"text-align: right;\">\n",
       "      <th></th>\n",
       "      <th>level_0</th>\n",
       "      <th>level_1</th>\n",
       "      <th>0</th>\n",
       "    </tr>\n",
       "  </thead>\n",
       "  <tbody>\n",
       "    <tr>\n",
       "      <th>0</th>\n",
       "      <td>0</td>\n",
       "      <td>aa</td>\n",
       "      <td>0.0</td>\n",
       "    </tr>\n",
       "    <tr>\n",
       "      <th>1</th>\n",
       "      <td>0</td>\n",
       "      <td>aaadvantage</td>\n",
       "      <td>0.0</td>\n",
       "    </tr>\n",
       "    <tr>\n",
       "      <th>2</th>\n",
       "      <td>0</td>\n",
       "      <td>aayush</td>\n",
       "      <td>0.0</td>\n",
       "    </tr>\n",
       "    <tr>\n",
       "      <th>3</th>\n",
       "      <td>0</td>\n",
       "      <td>abandon</td>\n",
       "      <td>0.0</td>\n",
       "    </tr>\n",
       "    <tr>\n",
       "      <th>4</th>\n",
       "      <td>0</td>\n",
       "      <td>abandoned</td>\n",
       "      <td>0.0</td>\n",
       "    </tr>\n",
       "  </tbody>\n",
       "</table>\n",
       "</div>"
      ],
      "text/plain": [
       "   level_0      level_1    0\n",
       "0        0           aa  0.0\n",
       "1        0  aaadvantage  0.0\n",
       "2        0       aayush  0.0\n",
       "3        0      abandon  0.0\n",
       "4        0    abandoned  0.0"
      ]
     },
     "execution_count": 13,
     "metadata": {},
     "output_type": "execute_result"
    }
   ],
   "source": [
    "tfidf_df = tfidf_df.stack().reset_index()\n",
    "tfidf_df.head()"
   ]
  },
  {
   "cell_type": "code",
   "execution_count": 14,
   "id": "fe7d7d7b",
   "metadata": {
    "execution": {
     "iopub.execute_input": "2025-04-18T13:55:51.127443Z",
     "iopub.status.busy": "2025-04-18T13:55:51.127107Z",
     "iopub.status.idle": "2025-04-18T13:55:51.489188Z",
     "shell.execute_reply": "2025-04-18T13:55:51.488194Z"
    },
    "papermill": {
     "duration": 0.370069,
     "end_time": "2025-04-18T13:55:51.490710",
     "exception": false,
     "start_time": "2025-04-18T13:55:51.120641",
     "status": "completed"
    },
    "tags": []
   },
   "outputs": [
    {
     "data": {
      "text/html": [
       "<div>\n",
       "<style scoped>\n",
       "    .dataframe tbody tr th:only-of-type {\n",
       "        vertical-align: middle;\n",
       "    }\n",
       "\n",
       "    .dataframe tbody tr th {\n",
       "        vertical-align: top;\n",
       "    }\n",
       "\n",
       "    .dataframe thead th {\n",
       "        text-align: right;\n",
       "    }\n",
       "</style>\n",
       "<table border=\"1\" class=\"dataframe\">\n",
       "  <thead>\n",
       "    <tr style=\"text-align: right;\">\n",
       "      <th></th>\n",
       "      <th>document_number</th>\n",
       "      <th>term</th>\n",
       "      <th>tfidf</th>\n",
       "    </tr>\n",
       "  </thead>\n",
       "  <tbody>\n",
       "    <tr>\n",
       "      <th>0</th>\n",
       "      <td>0</td>\n",
       "      <td>aa</td>\n",
       "      <td>0.0</td>\n",
       "    </tr>\n",
       "    <tr>\n",
       "      <th>1</th>\n",
       "      <td>0</td>\n",
       "      <td>aaadvantage</td>\n",
       "      <td>0.0</td>\n",
       "    </tr>\n",
       "    <tr>\n",
       "      <th>2</th>\n",
       "      <td>0</td>\n",
       "      <td>aayush</td>\n",
       "      <td>0.0</td>\n",
       "    </tr>\n",
       "    <tr>\n",
       "      <th>3</th>\n",
       "      <td>0</td>\n",
       "      <td>abandon</td>\n",
       "      <td>0.0</td>\n",
       "    </tr>\n",
       "    <tr>\n",
       "      <th>4</th>\n",
       "      <td>0</td>\n",
       "      <td>abandoned</td>\n",
       "      <td>0.0</td>\n",
       "    </tr>\n",
       "  </tbody>\n",
       "</table>\n",
       "</div>"
      ],
      "text/plain": [
       "   document_number         term  tfidf\n",
       "0                0           aa    0.0\n",
       "1                0  aaadvantage    0.0\n",
       "2                0       aayush    0.0\n",
       "3                0      abandon    0.0\n",
       "4                0    abandoned    0.0"
      ]
     },
     "execution_count": 14,
     "metadata": {},
     "output_type": "execute_result"
    }
   ],
   "source": [
    "tfidf_df = tfidf_df.rename(columns={0:'tfidf','level_1': 'term', 'level_2': 'term', 'level_0': 'document_number'})\n",
    "tfidf_df.head()"
   ]
  },
  {
   "cell_type": "code",
   "execution_count": 15,
   "id": "11ef690e",
   "metadata": {
    "execution": {
     "iopub.execute_input": "2025-04-18T13:55:51.503900Z",
     "iopub.status.busy": "2025-04-18T13:55:51.503587Z",
     "iopub.status.idle": "2025-04-18T13:55:51.509325Z",
     "shell.execute_reply": "2025-04-18T13:55:51.508468Z"
    },
    "papermill": {
     "duration": 0.013919,
     "end_time": "2025-04-18T13:55:51.510799",
     "exception": false,
     "start_time": "2025-04-18T13:55:51.496880",
     "status": "completed"
    },
    "tags": []
   },
   "outputs": [
    {
     "data": {
      "text/plain": [
       "(23034880, 3)"
      ]
     },
     "execution_count": 15,
     "metadata": {},
     "output_type": "execute_result"
    }
   ],
   "source": [
    "tfidf_df.shape"
   ]
  },
  {
   "cell_type": "code",
   "execution_count": 16,
   "id": "f02c00d4",
   "metadata": {
    "execution": {
     "iopub.execute_input": "2025-04-18T13:55:51.524450Z",
     "iopub.status.busy": "2025-04-18T13:55:51.524178Z",
     "iopub.status.idle": "2025-04-18T13:55:53.010570Z",
     "shell.execute_reply": "2025-04-18T13:55:53.009672Z"
    },
    "papermill": {
     "duration": 1.495272,
     "end_time": "2025-04-18T13:55:53.012260",
     "exception": false,
     "start_time": "2025-04-18T13:55:51.516988",
     "status": "completed"
    },
    "tags": []
   },
   "outputs": [
    {
     "data": {
      "text/html": [
       "<div>\n",
       "<style scoped>\n",
       "    .dataframe tbody tr th:only-of-type {\n",
       "        vertical-align: middle;\n",
       "    }\n",
       "\n",
       "    .dataframe tbody tr th {\n",
       "        vertical-align: top;\n",
       "    }\n",
       "\n",
       "    .dataframe thead th {\n",
       "        text-align: right;\n",
       "    }\n",
       "</style>\n",
       "<table border=\"1\" class=\"dataframe\">\n",
       "  <thead>\n",
       "    <tr style=\"text-align: right;\">\n",
       "      <th></th>\n",
       "      <th>document_number</th>\n",
       "      <th>tfidf</th>\n",
       "    </tr>\n",
       "  </thead>\n",
       "  <tbody>\n",
       "    <tr>\n",
       "      <th>count</th>\n",
       "      <td>2.303488e+07</td>\n",
       "      <td>2.303488e+07</td>\n",
       "    </tr>\n",
       "    <tr>\n",
       "      <th>mean</th>\n",
       "      <td>1.279500e+03</td>\n",
       "      <td>6.336116e-04</td>\n",
       "    </tr>\n",
       "    <tr>\n",
       "      <th>std</th>\n",
       "      <td>7.390083e+02</td>\n",
       "      <td>1.052304e-02</td>\n",
       "    </tr>\n",
       "    <tr>\n",
       "      <th>min</th>\n",
       "      <td>0.000000e+00</td>\n",
       "      <td>0.000000e+00</td>\n",
       "    </tr>\n",
       "    <tr>\n",
       "      <th>25%</th>\n",
       "      <td>6.397500e+02</td>\n",
       "      <td>0.000000e+00</td>\n",
       "    </tr>\n",
       "    <tr>\n",
       "      <th>50%</th>\n",
       "      <td>1.279500e+03</td>\n",
       "      <td>0.000000e+00</td>\n",
       "    </tr>\n",
       "    <tr>\n",
       "      <th>75%</th>\n",
       "      <td>1.919250e+03</td>\n",
       "      <td>0.000000e+00</td>\n",
       "    </tr>\n",
       "    <tr>\n",
       "      <th>max</th>\n",
       "      <td>2.559000e+03</td>\n",
       "      <td>8.290709e-01</td>\n",
       "    </tr>\n",
       "  </tbody>\n",
       "</table>\n",
       "</div>"
      ],
      "text/plain": [
       "       document_number         tfidf\n",
       "count     2.303488e+07  2.303488e+07\n",
       "mean      1.279500e+03  6.336116e-04\n",
       "std       7.390083e+02  1.052304e-02\n",
       "min       0.000000e+00  0.000000e+00\n",
       "25%       6.397500e+02  0.000000e+00\n",
       "50%       1.279500e+03  0.000000e+00\n",
       "75%       1.919250e+03  0.000000e+00\n",
       "max       2.559000e+03  8.290709e-01"
      ]
     },
     "execution_count": 16,
     "metadata": {},
     "output_type": "execute_result"
    }
   ],
   "source": [
    "tfidf_df.describe()"
   ]
  },
  {
   "cell_type": "code",
   "execution_count": 17,
   "id": "a7fec1c4",
   "metadata": {
    "execution": {
     "iopub.execute_input": "2025-04-18T13:55:53.026574Z",
     "iopub.status.busy": "2025-04-18T13:55:53.025943Z",
     "iopub.status.idle": "2025-04-18T13:55:53.032189Z",
     "shell.execute_reply": "2025-04-18T13:55:53.031286Z"
    },
    "papermill": {
     "duration": 0.015257,
     "end_time": "2025-04-18T13:55:53.033840",
     "exception": false,
     "start_time": "2025-04-18T13:55:53.018583",
     "status": "completed"
    },
    "tags": []
   },
   "outputs": [
    {
     "data": {
      "text/plain": [
       "8998"
      ]
     },
     "execution_count": 17,
     "metadata": {},
     "output_type": "execute_result"
    }
   ],
   "source": [
    "vocabulary = vectorizer.vocabulary_\n",
    "len(vocabulary)"
   ]
  },
  {
   "cell_type": "markdown",
   "id": "5f3672dc",
   "metadata": {
    "papermill": {
     "duration": 0.005852,
     "end_time": "2025-04-18T13:55:53.045930",
     "exception": false,
     "start_time": "2025-04-18T13:55:53.040078",
     "status": "completed"
    },
    "tags": []
   },
   "source": [
    "## Option 2: BERT"
   ]
  },
  {
   "cell_type": "code",
   "execution_count": null,
   "id": "9d3cf29d",
   "metadata": {
    "papermill": {
     "duration": 0.005651,
     "end_time": "2025-04-18T13:55:53.057502",
     "exception": false,
     "start_time": "2025-04-18T13:55:53.051851",
     "status": "completed"
    },
    "tags": []
   },
   "outputs": [],
   "source": []
  }
 ],
 "metadata": {
  "kaggle": {
   "accelerator": "none",
   "dataSources": [
    {
     "datasetId": 6086683,
     "sourceId": 9907047,
     "sourceType": "datasetVersion"
    }
   ],
   "dockerImageVersionId": 31012,
   "isGpuEnabled": false,
   "isInternetEnabled": true,
   "language": "python",
   "sourceType": "notebook"
  },
  "kernelspec": {
   "display_name": "Python 3",
   "language": "python",
   "name": "python3"
  },
  "language_info": {
   "codemirror_mode": {
    "name": "ipython",
    "version": 3
   },
   "file_extension": ".py",
   "mimetype": "text/x-python",
   "name": "python",
   "nbconvert_exporter": "python",
   "pygments_lexer": "ipython3",
   "version": "3.11.11"
  },
  "papermill": {
   "default_parameters": {},
   "duration": 20.696289,
   "end_time": "2025-04-18T13:55:54.385914",
   "environment_variables": {},
   "exception": null,
   "input_path": "__notebook__.ipynb",
   "output_path": "__notebook__.ipynb",
   "parameters": {},
   "start_time": "2025-04-18T13:55:33.689625",
   "version": "2.6.0"
  }
 },
 "nbformat": 4,
 "nbformat_minor": 5
}
